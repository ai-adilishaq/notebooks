{
 "cells": [
  {
   "cell_type": "code",
   "execution_count": 1,
   "metadata": {},
   "outputs": [
    {
     "name": "stdout",
     "output_type": "stream",
     "text": [
      "<class 'pandas.core.frame.DataFrame'>\n",
      "Index: 440 entries, Petersglocke(im Volksmund Decke Pitter, Dicker Pitter) to Katharinaglocke\n",
      "Data columns (total 13 columns):\n",
      " #   Column            Non-Null Count  Dtype  \n",
      "---  ------            --------------  -----  \n",
      " 0   Nr:               440 non-null    float64\n",
      " 1   Bild:             1 non-null      object \n",
      " 2   Gebäude           440 non-null    object \n",
      " 3   Standort          440 non-null    object \n",
      " 4   Bundesland        440 non-null    object \n",
      " 5   Ton:              440 non-null    object \n",
      " 6   Masse (kg)        440 non-null    object \n",
      " 7   Ø (mm)            430 non-null    object \n",
      " 8   Jahr:             440 non-null    int64  \n",
      " 9   Gießer: Gussort:  440 non-null    object \n",
      " 10  Werkstoff:        440 non-null    object \n",
      " 11  Konf.:            424 non-null    object \n",
      " 12  Bemerkungen       44 non-null     object \n",
      "dtypes: float64(1), int64(1), object(11)\n",
      "memory usage: 48.1+ KB\n",
      "<class 'pandas.core.frame.DataFrame'>\n",
      "Index: 77 entries, Grosse Glocke to nan\n",
      "Data columns (total 6 columns):\n",
      " #   Column                         Non-Null Count  Dtype \n",
      "---  ------                         --------------  ----- \n",
      " 0   Ort, Kirche                    77 non-null     object\n",
      " 1   Schlagton (HT-1/16)            77 non-null     object\n",
      " 2   Masse(kg, ca.)                 77 non-null     object\n",
      " 3   Giesser, Gussort               77 non-null     object\n",
      " 4   Gussjahr                       77 non-null     object\n",
      " 5   Disposition des Gesamtgeläuts  77 non-null     object\n",
      "dtypes: object(6)\n",
      "memory usage: 4.2+ KB\n"
     ]
    }
   ],
   "source": [
    "import pathlib\n",
    "import re\n",
    "import types\n",
    "import warnings\n",
    "\n",
    "import pandas as pd\n",
    "\n",
    "BELLS = {'de': {'url': 'https://de.wikipedia.org/wiki/Liste_von_Glocken_in_Deutschland',\n",
    "                'index_col':'Name:'},\n",
    "         'ch': {'url': 'https://de.wikipedia.org/wiki/Liste_der_gr%C3%B6ssten_Glocken_der_Schweiz',\n",
    "                'index_col': 'Name'}}\n",
    "\n",
    "ENCODING = 'utf-8'\n",
    "\n",
    "\n",
    "def iterdataframes(encoding=ENCODING):\n",
    "    for cc, bell in BELLS.items():\n",
    "        path = pathlib.Path(f'bells_{cc}.csv')\n",
    "        if not path.exists():\n",
    "            df, = pd.read_html(bell['url'], index_col=bell['index_col'])\n",
    "            df.to_csv(path, encoding=encoding)\n",
    "\n",
    "        yield cc, pd.read_csv(path, encoding=encoding, index_col=bell['index_col'])\n",
    "\n",
    "\n",
    "df = types.SimpleNamespace(**dict(iterdataframes()))\n",
    "\n",
    "for x in (df.de, df.ch):\n",
    "    x.info()"
   ]
  },
  {
   "cell_type": "code",
   "execution_count": 2,
   "metadata": {},
   "outputs": [
    {
     "data": {
      "text/plain": [
       "('C-1', 'C#-1', 'D-1', 'D#-1', 'E-1')"
      ]
     },
     "execution_count": 2,
     "metadata": {},
     "output_type": "execute_result"
    }
   ],
   "source": [
    "NOTES = tuple(n + s for n in 'CDEFGAB' for s in ('',  '#')\n",
    "              if n + s not in ('E#', 'B#'))\n",
    "\n",
    "assert len(NOTES) == 12\n",
    "\n",
    "MIDI_NOTES = tuple(f'{n}{o}' for o in range(-1, 10) for n in NOTES\n",
    "                   if f'{n}{o}' not in ('G#9', 'A9', 'A#9', 'B9'))\n",
    "\n",
    "assert len(MIDI_NOTES) == 128\n",
    "\n",
    "MIDI_NOTES[:5]"
   ]
  },
  {
   "cell_type": "code",
   "execution_count": 3,
   "metadata": {},
   "outputs": [
    {
     "data": {
      "text/html": [
       "<div>\n",
       "<style scoped>\n",
       "    .dataframe tbody tr th:only-of-type {\n",
       "        vertical-align: middle;\n",
       "    }\n",
       "\n",
       "    .dataframe tbody tr th {\n",
       "        vertical-align: top;\n",
       "    }\n",
       "\n",
       "    .dataframe thead th {\n",
       "        text-align: right;\n",
       "    }\n",
       "</style>\n",
       "<table border=\"1\" class=\"dataframe\">\n",
       "  <thead>\n",
       "    <tr style=\"text-align: right;\">\n",
       "      <th></th>\n",
       "      <th>canonical</th>\n",
       "    </tr>\n",
       "  </thead>\n",
       "  <tbody>\n",
       "    <tr>\n",
       "      <th>a</th>\n",
       "      <td>A</td>\n",
       "    </tr>\n",
       "    <tr>\n",
       "      <th>a_sharp</th>\n",
       "      <td>A#</td>\n",
       "    </tr>\n",
       "    <tr>\n",
       "      <th>b</th>\n",
       "      <td>B</td>\n",
       "    </tr>\n",
       "    <tr>\n",
       "      <th>b_sharp</th>\n",
       "      <td>B#</td>\n",
       "    </tr>\n",
       "    <tr>\n",
       "      <th>c</th>\n",
       "      <td>C</td>\n",
       "    </tr>\n",
       "    <tr>\n",
       "      <th>c_sharp</th>\n",
       "      <td>C#</td>\n",
       "    </tr>\n",
       "    <tr>\n",
       "      <th>d</th>\n",
       "      <td>D</td>\n",
       "    </tr>\n",
       "    <tr>\n",
       "      <th>d_sharp</th>\n",
       "      <td>D#</td>\n",
       "    </tr>\n",
       "    <tr>\n",
       "      <th>e</th>\n",
       "      <td>E</td>\n",
       "    </tr>\n",
       "    <tr>\n",
       "      <th>e_sharp</th>\n",
       "      <td>E#</td>\n",
       "    </tr>\n",
       "    <tr>\n",
       "      <th>f</th>\n",
       "      <td>F</td>\n",
       "    </tr>\n",
       "    <tr>\n",
       "      <th>f_sharp</th>\n",
       "      <td>F#</td>\n",
       "    </tr>\n",
       "    <tr>\n",
       "      <th>g</th>\n",
       "      <td>G</td>\n",
       "    </tr>\n",
       "    <tr>\n",
       "      <th>g_sharp</th>\n",
       "      <td>G#</td>\n",
       "    </tr>\n",
       "    <tr>\n",
       "      <th>a_flat</th>\n",
       "      <td>G#</td>\n",
       "    </tr>\n",
       "    <tr>\n",
       "      <th>b_flat</th>\n",
       "      <td>A#</td>\n",
       "    </tr>\n",
       "    <tr>\n",
       "      <th>c_flat</th>\n",
       "      <td>B#</td>\n",
       "    </tr>\n",
       "    <tr>\n",
       "      <th>d_flat</th>\n",
       "      <td>C#</td>\n",
       "    </tr>\n",
       "    <tr>\n",
       "      <th>e_flat</th>\n",
       "      <td>D#</td>\n",
       "    </tr>\n",
       "    <tr>\n",
       "      <th>f_flat</th>\n",
       "      <td>E#</td>\n",
       "    </tr>\n",
       "    <tr>\n",
       "      <th>g_flat</th>\n",
       "      <td>F#</td>\n",
       "    </tr>\n",
       "    <tr>\n",
       "      <th>h</th>\n",
       "      <td>B</td>\n",
       "    </tr>\n",
       "  </tbody>\n",
       "</table>\n",
       "</div>"
      ],
      "text/plain": [
       "        canonical\n",
       "a               A\n",
       "a_sharp        A#\n",
       "b               B\n",
       "b_sharp        B#\n",
       "c               C\n",
       "c_sharp        C#\n",
       "d               D\n",
       "d_sharp        D#\n",
       "e               E\n",
       "e_sharp        E#\n",
       "f               F\n",
       "f_sharp        F#\n",
       "g               G\n",
       "g_sharp        G#\n",
       "a_flat         G#\n",
       "b_flat         A#\n",
       "c_flat         B#\n",
       "d_flat         C#\n",
       "e_flat         D#\n",
       "f_flat         E#\n",
       "g_flat         F#\n",
       "h               B"
      ]
     },
     "execution_count": 3,
     "metadata": {},
     "output_type": "execute_result"
    }
   ],
   "source": [
    "def iterenharmonic(base='abcdefg',sep='_', sharp='#', include_all=True):\n",
    "    for b in base:\n",
    "        yield b, b.upper()\n",
    "        if include_all or b not in 'be':\n",
    "            yield f'{b}{sep}sharp', b[0].upper() + sharp\n",
    "\n",
    "    for b, e in zip(base, base[-1] + base[:-1]):\n",
    "        if include_all or b not in 'cf':\n",
    "            yield f'{b}{sep}flat', e.upper() + sharp\n",
    "\n",
    "    yield 'h', 'B'\n",
    "\n",
    "CANONICAL = dict(iterenharmonic())\n",
    "\n",
    "\n",
    "pd.Series(CANONICAL).to_frame('canonical')"
   ]
  },
  {
   "cell_type": "code",
   "execution_count": 4,
   "metadata": {
    "scrolled": false
   },
   "outputs": [
    {
     "name": "stderr",
     "output_type": "stream",
     "text": [
      "<ipython-input-4-e672139c4768>:32: UserWarning: missed: ['fº', 'h0/c1']\n",
      "  warnings.warn(f'missed: {missed}')\n"
     ]
    },
    {
     "data": {
      "image/png": "[encoded data removed]",
      "text/plain": [
       "<Figure size 432x288 with 1 Axes>"
      ]
     },
     "metadata": {
      "needs_background": "light"
     },
     "output_type": "display_data"
    }
   ],
   "source": [
    "PARSE_NOTE = re.compile(\n",
    "    r'(?P<base>[a-h])'\n",
    "      r'(?:'\n",
    "          r\"(?P<sharp>is|'|º)\"\n",
    "          r'|'\n",
    "          r'(?P<flat>es|s)'\n",
    "      r')?'\n",
    "      r'[ \\u00a0]?'\n",
    "      r'(?P<octave>-1|[0-9])'\n",
    "      r'(?:'\n",
    "          r'(?:'\n",
    "              r'[ \\u00a0]?'\n",
    "              r'(?:'\n",
    "                  r'(?P<pos>[+/])'\n",
    "                  r'|'\n",
    "                  r'(?P<neg>[-\\u2013\\u2212])'\n",
    "              r')'\n",
    "              r'(?P<div>1[0-6]|[1-9])'\n",
    "              r'(?:/16)?'\n",
    "          r')?'\n",
    "      r')?'\n",
    "     r'(?:,.*)?')\n",
    "\n",
    "\n",
    "def iternotes(series, verbose=False, sep='_'):\n",
    "    if verbose:\n",
    "        print(*sorted(series), sep='|')\n",
    "\n",
    "    missed = (~series.str.fullmatch(PARSE_NOTE)).sum()\n",
    "    if missed:\n",
    "        missed = series[~series.str.fullmatch(PARSE_NOTE)].tolist()\n",
    "        warnings.warn(f'missed: {missed}')\n",
    "\n",
    "    matches = series.str.extract(PARSE_NOTE).fillna('')\n",
    "    for _, base, sharp, flat, octave, pos, neg, div in matches.itertuples(name=None):\n",
    "        if not octave:\n",
    "            yield None\n",
    "            continue\n",
    "\n",
    "        suffix = f'{sep}sharp' if sharp else f'{sep}flat' if flat else ''\n",
    "        note = f'{base}{suffix}{sep}{int(octave)}'\n",
    "        if div:\n",
    "            sign = '+' if pos or not neg else '-'\n",
    "            note += f'{sep}{int(sign + div)}'\n",
    "\n",
    "        yield CANONICAL[f'{base}{suffix}']\n",
    "\n",
    "\n",
    "nf = df.de['Ton:'].value_counts().to_frame('n_bells')\n",
    "nf['note'] = list(iternotes(nf.index.to_series()))\n",
    "\n",
    "cf = nf.groupby('note')['n_bells'].sum().to_frame('n_bells')\n",
    "cf.plot.bar();"
   ]
  },
  {
   "cell_type": "code",
   "execution_count": 5,
   "metadata": {},
   "outputs": [
    {
     "name": "stderr",
     "output_type": "stream",
     "text": [
      "<ipython-input-4-e672139c4768>:32: UserWarning: missed: ['g0[3]']\n",
      "  warnings.warn(f'missed: {missed}')\n"
     ]
    },
    {
     "data": {
      "image/png": "[encoded data removed]",
      "text/plain": [
       "<Figure size 432x288 with 1 Axes>"
      ]
     },
     "metadata": {
      "needs_background": "light"
     },
     "output_type": "display_data"
    }
   ],
   "source": [
    "nf = df.ch['Schlagton (HT-1/16)'].value_counts().to_frame('n_bells')\n",
    "nf['note'] = list(iternotes(nf.index.to_series()))\n",
    "\n",
    "cf = nf.groupby('note')['n_bells'].sum().to_frame('n_bells')\n",
    "cf.plot.bar();"
   ]
  }
 ],
 "metadata": {
  "kernelspec": {
   "display_name": "Python 3",
   "language": "python",
   "name": "python3"
  },
  "language_info": {
   "codemirror_mode": {
    "name": "ipython",
    "version": 3
   },
   "file_extension": ".py",
   "mimetype": "text/x-python",
   "name": "python",
   "nbconvert_exporter": "python",
   "pygments_lexer": "ipython3",
   "version": "3.8.7"
  }
 },
 "nbformat": 4,
 "nbformat_minor": 4
}
