{
 "cells": [
  {
   "cell_type": "code",
   "execution_count": 1,
   "metadata": {},
   "outputs": [
    {
     "name": "stdout",
     "output_type": "stream",
     "text": [
      "<class 'pandas.core.frame.DataFrame'>\n",
      "RangeIndex: 756 entries, 0 to 755\n",
      "Data columns (total 5 columns):\n",
      "Semantic class    756 non-null object\n",
      "Language          756 non-null object\n",
      "Pred              748 non-null object\n",
      "Ref               697 non-null object\n",
      "Mod               697 non-null object\n",
      "dtypes: object(5)\n",
      "memory usage: 29.6+ KB\n"
     ]
    }
   ],
   "source": [
    "%matplotlib inline\n",
    "\n",
    "import itertools\n",
    "\n",
    "import pandas as pd\n",
    "import scipy.stats\n",
    "\n",
    "def corr(df, left, right, func='pearsonr', left_replace=None):\n",
    "    df = df[[left, right]].dropna()\n",
    "    left = df[left].replace(left_replace) if left_replace is not None else df[left]\n",
    "    right = df[right]\n",
    "    result = getattr(scipy.stats, func)(left, right)\n",
    "    return pd.Series(result, name=func, index=('r', 'p'))\n",
    "\n",
    "FILE = 'MarkingDataNominal.txt'\n",
    "\n",
    "tb = pd.read_csv(FILE, encoding='ascii', delimiter='\\t')\n",
    "tb.info()"
   ]
  },
  {
   "cell_type": "code",
   "execution_count": 2,
   "metadata": {},
   "outputs": [
    {
     "data": {
      "text/html": [
       "<div>\n",
       "<style scoped>\n",
       "    .dataframe tbody tr th:only-of-type {\n",
       "        vertical-align: middle;\n",
       "    }\n",
       "\n",
       "    .dataframe tbody tr th {\n",
       "        vertical-align: top;\n",
       "    }\n",
       "\n",
       "    .dataframe thead th {\n",
       "        text-align: right;\n",
       "    }\n",
       "</style>\n",
       "<table border=\"1\" class=\"dataframe\">\n",
       "  <thead>\n",
       "    <tr style=\"text-align: right;\">\n",
       "      <th></th>\n",
       "      <th>Semantic class</th>\n",
       "      <th>Language</th>\n",
       "      <th>Pred</th>\n",
       "      <th>Ref</th>\n",
       "      <th>Mod</th>\n",
       "    </tr>\n",
       "  </thead>\n",
       "  <tbody>\n",
       "    <tr>\n",
       "      <th>0</th>\n",
       "      <td>proper name</td>\n",
       "      <td>Mekeo</td>\n",
       "      <td>yes</td>\n",
       "      <td>yes</td>\n",
       "      <td>NaN</td>\n",
       "    </tr>\n",
       "    <tr>\n",
       "      <th>1</th>\n",
       "      <td>person</td>\n",
       "      <td>Mekeo</td>\n",
       "      <td>yes</td>\n",
       "      <td>yes</td>\n",
       "      <td>sometimes</td>\n",
       "    </tr>\n",
       "    <tr>\n",
       "      <th>2</th>\n",
       "      <td>kin term</td>\n",
       "      <td>Mekeo</td>\n",
       "      <td>yes</td>\n",
       "      <td>yes</td>\n",
       "      <td>NaN</td>\n",
       "    </tr>\n",
       "    <tr>\n",
       "      <th>3</th>\n",
       "      <td>body part</td>\n",
       "      <td>Mekeo</td>\n",
       "      <td>yes</td>\n",
       "      <td>yes</td>\n",
       "      <td>NaN</td>\n",
       "    </tr>\n",
       "    <tr>\n",
       "      <th>4</th>\n",
       "      <td>natural kind</td>\n",
       "      <td>Mekeo</td>\n",
       "      <td>yes</td>\n",
       "      <td>yes</td>\n",
       "      <td>NaN</td>\n",
       "    </tr>\n",
       "  </tbody>\n",
       "</table>\n",
       "</div>"
      ],
      "text/plain": [
       "  Semantic class Language Pred  Ref        Mod\n",
       "0    proper name    Mekeo  yes  yes        NaN\n",
       "1         person    Mekeo  yes  yes  sometimes\n",
       "2       kin term    Mekeo  yes  yes        NaN\n",
       "3      body part    Mekeo  yes  yes        NaN\n",
       "4   natural kind    Mekeo  yes  yes        NaN"
      ]
     },
     "execution_count": 2,
     "metadata": {},
     "output_type": "execute_result"
    }
   ],
   "source": [
    "tb.head()"
   ]
  },
  {
   "cell_type": "code",
   "execution_count": 3,
   "metadata": {},
   "outputs": [
    {
     "data": {
      "text/plain": [
       "21    36\n",
       "Name: Language, dtype: int64"
      ]
     },
     "execution_count": 3,
     "metadata": {},
     "output_type": "execute_result"
    }
   ],
   "source": [
    "tb['Language'].value_counts().value_counts()"
   ]
  },
  {
   "cell_type": "code",
   "execution_count": 4,
   "metadata": {},
   "outputs": [
    {
     "data": {
      "text/plain": [
       "36    21\n",
       "Name: Semantic class, dtype: int64"
      ]
     },
     "execution_count": 4,
     "metadata": {},
     "output_type": "execute_result"
    }
   ],
   "source": [
    "tb['Semantic class'].value_counts().value_counts()"
   ]
  },
  {
   "cell_type": "code",
   "execution_count": 5,
   "metadata": {},
   "outputs": [],
   "source": [
    "tb = tb.set_index(['Language', 'Semantic class'])\n",
    "assert tb.index.is_unique"
   ]
  },
  {
   "cell_type": "code",
   "execution_count": 6,
   "metadata": {
    "scrolled": true
   },
   "outputs": [
    {
     "data": {
      "image/png": "[encoded data removed]",
      "text/plain": [
       "<Figure size 432x288 with 1 Axes>"
      ]
     },
     "metadata": {
      "needs_background": "light"
     },
     "output_type": "display_data"
    }
   ],
   "source": [
    "prm = tb.fillna('na').stack().groupby(level=-1).value_counts().unstack().loc[['Mod', 'Ref', 'Pred']]\n",
    "prm.plot(kind='bar');"
   ]
  },
  {
   "cell_type": "code",
   "execution_count": 7,
   "metadata": {},
   "outputs": [
    {
     "data": {
      "text/html": [
       "<div>\n",
       "<style scoped>\n",
       "    .dataframe tbody tr th:only-of-type {\n",
       "        vertical-align: middle;\n",
       "    }\n",
       "\n",
       "    .dataframe tbody tr th {\n",
       "        vertical-align: top;\n",
       "    }\n",
       "\n",
       "    .dataframe thead th {\n",
       "        text-align: right;\n",
       "    }\n",
       "</style>\n",
       "<table border=\"1\" class=\"dataframe\">\n",
       "  <thead>\n",
       "    <tr style=\"text-align: right;\">\n",
       "      <th></th>\n",
       "      <th>na</th>\n",
       "      <th>no</th>\n",
       "      <th>sometimes</th>\n",
       "      <th>yes</th>\n",
       "      <th>yes_ratio</th>\n",
       "    </tr>\n",
       "  </thead>\n",
       "  <tbody>\n",
       "    <tr>\n",
       "      <th>Mod</th>\n",
       "      <td>59</td>\n",
       "      <td>388</td>\n",
       "      <td>101</td>\n",
       "      <td>208</td>\n",
       "      <td>27.513228</td>\n",
       "    </tr>\n",
       "    <tr>\n",
       "      <th>Ref</th>\n",
       "      <td>59</td>\n",
       "      <td>276</td>\n",
       "      <td>68</td>\n",
       "      <td>353</td>\n",
       "      <td>46.693122</td>\n",
       "    </tr>\n",
       "    <tr>\n",
       "      <th>Pred</th>\n",
       "      <td>8</td>\n",
       "      <td>9</td>\n",
       "      <td>43</td>\n",
       "      <td>696</td>\n",
       "      <td>92.063492</td>\n",
       "    </tr>\n",
       "  </tbody>\n",
       "</table>\n",
       "</div>"
      ],
      "text/plain": [
       "      na   no  sometimes  yes  yes_ratio\n",
       "Mod   59  388        101  208  27.513228\n",
       "Ref   59  276         68  353  46.693122\n",
       "Pred   8    9         43  696  92.063492"
      ]
     },
     "execution_count": 7,
     "metadata": {},
     "output_type": "execute_result"
    }
   ],
   "source": [
    "prm.eval('yes_ratio = 100 * yes / (na + no + sometimes + yes)', inplace=False)"
   ]
  },
  {
   "cell_type": "code",
   "execution_count": 8,
   "metadata": {},
   "outputs": [
    {
     "data": {
      "text/html": [
       "<div>\n",
       "<style scoped>\n",
       "    .dataframe tbody tr th:only-of-type {\n",
       "        vertical-align: middle;\n",
       "    }\n",
       "\n",
       "    .dataframe tbody tr th {\n",
       "        vertical-align: top;\n",
       "    }\n",
       "\n",
       "    .dataframe thead th {\n",
       "        text-align: right;\n",
       "    }\n",
       "</style>\n",
       "<table border=\"1\" class=\"dataframe\">\n",
       "  <thead>\n",
       "    <tr style=\"text-align: right;\">\n",
       "      <th></th>\n",
       "      <th>Language</th>\n",
       "      <th>Semantic class</th>\n",
       "      <th>Function</th>\n",
       "      <th>Without coding</th>\n",
       "    </tr>\n",
       "  </thead>\n",
       "  <tbody>\n",
       "    <tr>\n",
       "      <th>0</th>\n",
       "      <td>Mekeo</td>\n",
       "      <td>proper name</td>\n",
       "      <td>Pred</td>\n",
       "      <td>yes</td>\n",
       "    </tr>\n",
       "    <tr>\n",
       "      <th>1</th>\n",
       "      <td>Mekeo</td>\n",
       "      <td>proper name</td>\n",
       "      <td>Ref</td>\n",
       "      <td>yes</td>\n",
       "    </tr>\n",
       "    <tr>\n",
       "      <th>2</th>\n",
       "      <td>Mekeo</td>\n",
       "      <td>proper name</td>\n",
       "      <td>Mod</td>\n",
       "      <td>NaN</td>\n",
       "    </tr>\n",
       "    <tr>\n",
       "      <th>3</th>\n",
       "      <td>Mekeo</td>\n",
       "      <td>person</td>\n",
       "      <td>Pred</td>\n",
       "      <td>yes</td>\n",
       "    </tr>\n",
       "    <tr>\n",
       "      <th>4</th>\n",
       "      <td>Mekeo</td>\n",
       "      <td>person</td>\n",
       "      <td>Ref</td>\n",
       "      <td>yes</td>\n",
       "    </tr>\n",
       "  </tbody>\n",
       "</table>\n",
       "</div>"
      ],
      "text/plain": [
       "  Language Semantic class Function Without coding\n",
       "0    Mekeo    proper name     Pred            yes\n",
       "1    Mekeo    proper name      Ref            yes\n",
       "2    Mekeo    proper name      Mod            NaN\n",
       "3    Mekeo         person     Pred            yes\n",
       "4    Mekeo         person      Ref            yes"
      ]
     },
     "execution_count": 8,
     "metadata": {},
     "output_type": "execute_result"
    }
   ],
   "source": [
    "s = tb.stack(dropna=False)\n",
    "s.index = s.index.set_names('Function', level=2)\n",
    "df = s.to_frame('Without coding').reset_index()\n",
    "df.head()"
   ]
  },
  {
   "cell_type": "code",
   "execution_count": 9,
   "metadata": {},
   "outputs": [
    {
     "data": {
      "text/html": [
       "<div>\n",
       "<style scoped>\n",
       "    .dataframe tbody tr th:only-of-type {\n",
       "        vertical-align: middle;\n",
       "    }\n",
       "\n",
       "    .dataframe tbody tr th {\n",
       "        vertical-align: top;\n",
       "    }\n",
       "\n",
       "    .dataframe thead th {\n",
       "        text-align: right;\n",
       "    }\n",
       "</style>\n",
       "<table border=\"1\" class=\"dataframe\">\n",
       "  <thead>\n",
       "    <tr style=\"text-align: right;\">\n",
       "      <th></th>\n",
       "      <th>Language</th>\n",
       "      <th>Semantic class</th>\n",
       "      <th>Function</th>\n",
       "      <th>Without coding</th>\n",
       "      <th>value</th>\n",
       "    </tr>\n",
       "  </thead>\n",
       "  <tbody>\n",
       "    <tr>\n",
       "      <th>0</th>\n",
       "      <td>Mekeo</td>\n",
       "      <td>proper name</td>\n",
       "      <td>Pred</td>\n",
       "      <td>yes</td>\n",
       "      <td>1.0</td>\n",
       "    </tr>\n",
       "    <tr>\n",
       "      <th>1</th>\n",
       "      <td>Mekeo</td>\n",
       "      <td>proper name</td>\n",
       "      <td>Ref</td>\n",
       "      <td>yes</td>\n",
       "      <td>1.0</td>\n",
       "    </tr>\n",
       "    <tr>\n",
       "      <th>2</th>\n",
       "      <td>Mekeo</td>\n",
       "      <td>proper name</td>\n",
       "      <td>Mod</td>\n",
       "      <td>NaN</td>\n",
       "      <td>NaN</td>\n",
       "    </tr>\n",
       "    <tr>\n",
       "      <th>3</th>\n",
       "      <td>Mekeo</td>\n",
       "      <td>person</td>\n",
       "      <td>Pred</td>\n",
       "      <td>yes</td>\n",
       "      <td>1.0</td>\n",
       "    </tr>\n",
       "    <tr>\n",
       "      <th>4</th>\n",
       "      <td>Mekeo</td>\n",
       "      <td>person</td>\n",
       "      <td>Ref</td>\n",
       "      <td>yes</td>\n",
       "      <td>1.0</td>\n",
       "    </tr>\n",
       "  </tbody>\n",
       "</table>\n",
       "</div>"
      ],
      "text/plain": [
       "  Language Semantic class Function Without coding  value\n",
       "0    Mekeo    proper name     Pred            yes    1.0\n",
       "1    Mekeo    proper name      Ref            yes    1.0\n",
       "2    Mekeo    proper name      Mod            NaN    NaN\n",
       "3    Mekeo         person     Pred            yes    1.0\n",
       "4    Mekeo         person      Ref            yes    1.0"
      ]
     },
     "execution_count": 9,
     "metadata": {},
     "output_type": "execute_result"
    }
   ],
   "source": [
    "VALUES = {'no': 0.0, 'sometimes': 0.5, 'yes': 1.0}\n",
    "df['value'] = df['Without coding'].replace(VALUES)\n",
    "df.head()"
   ]
  },
  {
   "cell_type": "code",
   "execution_count": 10,
   "metadata": {},
   "outputs": [
    {
     "data": {
      "text/html": [
       "<div>\n",
       "<style scoped>\n",
       "    .dataframe tbody tr th:only-of-type {\n",
       "        vertical-align: middle;\n",
       "    }\n",
       "\n",
       "    .dataframe tbody tr th {\n",
       "        vertical-align: top;\n",
       "    }\n",
       "\n",
       "    .dataframe thead th {\n",
       "        text-align: right;\n",
       "    }\n",
       "</style>\n",
       "<table border=\"1\" class=\"dataframe\">\n",
       "  <thead>\n",
       "    <tr style=\"text-align: right;\">\n",
       "      <th></th>\n",
       "      <th>replace</th>\n",
       "      <th>r</th>\n",
       "      <th>p</th>\n",
       "    </tr>\n",
       "    <tr>\n",
       "      <th>scale</th>\n",
       "      <th></th>\n",
       "      <th></th>\n",
       "      <th></th>\n",
       "    </tr>\n",
       "  </thead>\n",
       "  <tbody>\n",
       "    <tr>\n",
       "      <th>Pred &gt; Ref &gt; Mod</th>\n",
       "      <td>{'Pred': 2, 'Ref': 1, 'Mod': 0}</td>\n",
       "      <td>0.538333</td>\n",
       "      <td>3.024327e-161</td>\n",
       "    </tr>\n",
       "    <tr>\n",
       "      <th>Pred &gt; Mod &gt; Ref</th>\n",
       "      <td>{'Pred': 2, 'Mod': 1, 'Ref': 0}</td>\n",
       "      <td>0.377331</td>\n",
       "      <td>1.926679e-73</td>\n",
       "    </tr>\n",
       "    <tr>\n",
       "      <th>Ref &gt; Pred &gt; Mod</th>\n",
       "      <td>{'Ref': 2, 'Pred': 1, 'Mod': 0}</td>\n",
       "      <td>0.166892</td>\n",
       "      <td>7.596503e-15</td>\n",
       "    </tr>\n",
       "    <tr>\n",
       "      <th>Mod &gt; Pred &gt; Ref</th>\n",
       "      <td>{'Mod': 2, 'Pred': 1, 'Ref': 0}</td>\n",
       "      <td>-0.166892</td>\n",
       "      <td>7.596503e-15</td>\n",
       "    </tr>\n",
       "    <tr>\n",
       "      <th>Ref &gt; Mod &gt; Pred</th>\n",
       "      <td>{'Ref': 2, 'Mod': 1, 'Pred': 0}</td>\n",
       "      <td>-0.377331</td>\n",
       "      <td>1.926679e-73</td>\n",
       "    </tr>\n",
       "    <tr>\n",
       "      <th>Mod &gt; Ref &gt; Pred</th>\n",
       "      <td>{'Mod': 2, 'Ref': 1, 'Pred': 0}</td>\n",
       "      <td>-0.538333</td>\n",
       "      <td>3.024327e-161</td>\n",
       "    </tr>\n",
       "  </tbody>\n",
       "</table>\n",
       "</div>"
      ],
      "text/plain": [
       "                                          replace         r              p\n",
       "scale                                                                     \n",
       "Pred > Ref > Mod  {'Pred': 2, 'Ref': 1, 'Mod': 0}  0.538333  3.024327e-161\n",
       "Pred > Mod > Ref  {'Pred': 2, 'Mod': 1, 'Ref': 0}  0.377331   1.926679e-73\n",
       "Ref > Pred > Mod  {'Ref': 2, 'Pred': 1, 'Mod': 0}  0.166892   7.596503e-15\n",
       "Mod > Pred > Ref  {'Mod': 2, 'Pred': 1, 'Ref': 0} -0.166892   7.596503e-15\n",
       "Ref > Mod > Pred  {'Ref': 2, 'Mod': 1, 'Pred': 0} -0.377331   1.926679e-73\n",
       "Mod > Ref > Pred  {'Mod': 2, 'Ref': 1, 'Pred': 0} -0.538333  3.024327e-161"
      ]
     },
     "execution_count": 10,
     "metadata": {},
     "output_type": "execute_result"
    }
   ],
   "source": [
    "scales = pd.DataFrame([(' > '.join(reversed(p)), {c: i for i, c in reversed(list(enumerate(p)))})\n",
    "    for p in itertools.permutations(df['Function'].unique())],\n",
    "    columns=['scale', 'replace']).set_index('scale')\n",
    "\n",
    "scalesc = scales['replace'].apply(lambda r: corr(df, 'Function', 'value', 'spearmanr', r))\n",
    "scales = scales.join(scalesc).sort_values('r', ascending=False)\n",
    "scales"
   ]
  },
  {
   "cell_type": "markdown",
   "metadata": {},
   "source": [
    "https://en.wikipedia.org/wiki/Rank_correlation\n",
    "\n",
    "https://en.wikipedia.org/wiki/Spearman's_rank_correlation_coefficient\n",
    "\n",
    "https://en.wikipedia.org/wiki/Kendall's_tau_rank_correlation_coefficient\n",
    "\n",
    "https://docs.scipy.org/doc/scipy-0.15.1/reference/generated/scipy.stats.spearmanr.html\n",
    "\n",
    "https://docs.scipy.org/doc/scipy-0.15.1/reference/generated/scipy.stats.kendalltau.html"
   ]
  },
  {
   "cell_type": "code",
   "execution_count": 11,
   "metadata": {},
   "outputs": [
    {
     "data": {
      "text/html": [
       "<div>\n",
       "<style scoped>\n",
       "    .dataframe tbody tr th:only-of-type {\n",
       "        vertical-align: middle;\n",
       "    }\n",
       "\n",
       "    .dataframe tbody tr th {\n",
       "        vertical-align: top;\n",
       "    }\n",
       "\n",
       "    .dataframe thead th {\n",
       "        text-align: right;\n",
       "    }\n",
       "</style>\n",
       "<table border=\"1\" class=\"dataframe\">\n",
       "  <thead>\n",
       "    <tr style=\"text-align: right;\">\n",
       "      <th></th>\n",
       "      <th>r</th>\n",
       "      <th>p</th>\n",
       "    </tr>\n",
       "  </thead>\n",
       "  <tbody>\n",
       "    <tr>\n",
       "      <th>pearsonr</th>\n",
       "      <td>0.533537</td>\n",
       "      <td>6.863377e-158</td>\n",
       "    </tr>\n",
       "    <tr>\n",
       "      <th>spearmanr</th>\n",
       "      <td>0.538333</td>\n",
       "      <td>3.024327e-161</td>\n",
       "    </tr>\n",
       "    <tr>\n",
       "      <th>kendalltau</th>\n",
       "      <td>0.488921</td>\n",
       "      <td>3.659011e-136</td>\n",
       "    </tr>\n",
       "  </tbody>\n",
       "</table>\n",
       "</div>"
      ],
      "text/plain": [
       "                   r              p\n",
       "pearsonr    0.533537  6.863377e-158\n",
       "spearmanr   0.538333  3.024327e-161\n",
       "kendalltau  0.488921  3.659011e-136"
      ]
     },
     "execution_count": 11,
     "metadata": {},
     "output_type": "execute_result"
    }
   ],
   "source": [
    "CORR = ['pearsonr', 'spearmanr', 'kendalltau']\n",
    "scale = scales.at['Pred > Ref > Mod', 'replace']\n",
    "pd.DataFrame([corr(df, 'Function', 'value', c, scale) for c in CORR])"
   ]
  },
  {
   "cell_type": "code",
   "execution_count": 12,
   "metadata": {},
   "outputs": [
    {
     "name": "stdout",
     "output_type": "stream",
     "text": [
      "<class 'pandas.core.frame.DataFrame'>\n",
      "Int64Index: 252 entries, 23 to 2246\n",
      "Data columns (total 5 columns):\n",
      "Language          252 non-null object\n",
      "Semantic class    252 non-null object\n",
      "Function          252 non-null object\n",
      "Without coding    232 non-null object\n",
      "value             232 non-null float64\n",
      "dtypes: float64(1), object(4)\n",
      "memory usage: 11.8+ KB\n"
     ]
    }
   ],
   "source": [
    "PROPWORDS = ['dimension', 'color', 'value', 'age', 'phys.prop', 'hum.prop', 'exp.state']\n",
    "pw = df[(df['Function'] == 'Mod') & df['Semantic class'].isin(PROPWORDS)]\n",
    "pw.info()"
   ]
  },
  {
   "cell_type": "code",
   "execution_count": 13,
   "metadata": {},
   "outputs": [
    {
     "data": {
      "image/png": "[encoded data removed]",
      "text/plain": [
       "<Figure size 432x288 with 1 Axes>"
      ]
     },
     "metadata": {
      "needs_background": "light"
     },
     "output_type": "display_data"
    }
   ],
   "source": [
    "pwsc = pw.groupby('Semantic class')['Without coding']\\\n",
    "    .value_counts(dropna=False).rename(index={pd.np.nan: 'na'})\\\n",
    "    .unstack('Without coding', fill_value=0).loc[PROPWORDS[::-1]]\n",
    "pwsc.plot(kind='bar');"
   ]
  },
  {
   "cell_type": "code",
   "execution_count": 14,
   "metadata": {},
   "outputs": [
    {
     "data": {
      "text/html": [
       "<div>\n",
       "<style scoped>\n",
       "    .dataframe tbody tr th:only-of-type {\n",
       "        vertical-align: middle;\n",
       "    }\n",
       "\n",
       "    .dataframe tbody tr th {\n",
       "        vertical-align: top;\n",
       "    }\n",
       "\n",
       "    .dataframe thead th {\n",
       "        text-align: right;\n",
       "    }\n",
       "</style>\n",
       "<table border=\"1\" class=\"dataframe\">\n",
       "  <thead>\n",
       "    <tr style=\"text-align: right;\">\n",
       "      <th>Without coding</th>\n",
       "      <th>na</th>\n",
       "      <th>no</th>\n",
       "      <th>sometimes</th>\n",
       "      <th>yes</th>\n",
       "      <th>yes_ratio</th>\n",
       "    </tr>\n",
       "    <tr>\n",
       "      <th>Semantic class</th>\n",
       "      <th></th>\n",
       "      <th></th>\n",
       "      <th></th>\n",
       "      <th></th>\n",
       "      <th></th>\n",
       "    </tr>\n",
       "  </thead>\n",
       "  <tbody>\n",
       "    <tr>\n",
       "      <th>exp.state</th>\n",
       "      <td>13</td>\n",
       "      <td>12</td>\n",
       "      <td>4</td>\n",
       "      <td>7</td>\n",
       "      <td>19.444444</td>\n",
       "    </tr>\n",
       "    <tr>\n",
       "      <th>hum.prop</th>\n",
       "      <td>5</td>\n",
       "      <td>7</td>\n",
       "      <td>4</td>\n",
       "      <td>20</td>\n",
       "      <td>55.555556</td>\n",
       "    </tr>\n",
       "    <tr>\n",
       "      <th>phys.prop</th>\n",
       "      <td>0</td>\n",
       "      <td>6</td>\n",
       "      <td>7</td>\n",
       "      <td>23</td>\n",
       "      <td>63.888889</td>\n",
       "    </tr>\n",
       "    <tr>\n",
       "      <th>age</th>\n",
       "      <td>0</td>\n",
       "      <td>6</td>\n",
       "      <td>6</td>\n",
       "      <td>24</td>\n",
       "      <td>66.666667</td>\n",
       "    </tr>\n",
       "    <tr>\n",
       "      <th>value</th>\n",
       "      <td>0</td>\n",
       "      <td>5</td>\n",
       "      <td>7</td>\n",
       "      <td>24</td>\n",
       "      <td>66.666667</td>\n",
       "    </tr>\n",
       "    <tr>\n",
       "      <th>color</th>\n",
       "      <td>2</td>\n",
       "      <td>6</td>\n",
       "      <td>4</td>\n",
       "      <td>24</td>\n",
       "      <td>66.666667</td>\n",
       "    </tr>\n",
       "    <tr>\n",
       "      <th>dimension</th>\n",
       "      <td>0</td>\n",
       "      <td>3</td>\n",
       "      <td>6</td>\n",
       "      <td>27</td>\n",
       "      <td>75.000000</td>\n",
       "    </tr>\n",
       "  </tbody>\n",
       "</table>\n",
       "</div>"
      ],
      "text/plain": [
       "Without coding  na  no  sometimes  yes  yes_ratio\n",
       "Semantic class                                   \n",
       "exp.state       13  12          4    7  19.444444\n",
       "hum.prop         5   7          4   20  55.555556\n",
       "phys.prop        0   6          7   23  63.888889\n",
       "age              0   6          6   24  66.666667\n",
       "value            0   5          7   24  66.666667\n",
       "color            2   6          4   24  66.666667\n",
       "dimension        0   3          6   27  75.000000"
      ]
     },
     "execution_count": 14,
     "metadata": {},
     "output_type": "execute_result"
    }
   ],
   "source": [
    "pwsc.eval('yes_ratio = 100 * yes / (na + no + sometimes + yes)', inplace=False)"
   ]
  },
  {
   "cell_type": "code",
   "execution_count": 15,
   "metadata": {},
   "outputs": [
    {
     "data": {
      "text/html": [
       "<div>\n",
       "<style scoped>\n",
       "    .dataframe tbody tr th:only-of-type {\n",
       "        vertical-align: middle;\n",
       "    }\n",
       "\n",
       "    .dataframe tbody tr th {\n",
       "        vertical-align: top;\n",
       "    }\n",
       "\n",
       "    .dataframe thead th {\n",
       "        text-align: right;\n",
       "    }\n",
       "</style>\n",
       "<table border=\"1\" class=\"dataframe\">\n",
       "  <thead>\n",
       "    <tr style=\"text-align: right;\">\n",
       "      <th></th>\n",
       "      <th>r</th>\n",
       "      <th>p</th>\n",
       "    </tr>\n",
       "    <tr>\n",
       "      <th>scale</th>\n",
       "      <th></th>\n",
       "      <th></th>\n",
       "    </tr>\n",
       "  </thead>\n",
       "  <tbody>\n",
       "    <tr>\n",
       "      <th>dimension &gt; color &gt; value &gt; age &gt; phys.prop &gt; hum.prop &gt; exp.state</th>\n",
       "      <td>0.205040</td>\n",
       "      <td>0.001692</td>\n",
       "    </tr>\n",
       "    <tr>\n",
       "      <th>dimension &gt; color &gt; age &gt; value &gt; phys.prop &gt; hum.prop &gt; exp.state</th>\n",
       "      <td>0.203334</td>\n",
       "      <td>0.001852</td>\n",
       "    </tr>\n",
       "    <tr>\n",
       "      <th>dimension &gt; color &gt; value &gt; age &gt; hum.prop &gt; phys.prop &gt; exp.state</th>\n",
       "      <td>0.202659</td>\n",
       "      <td>0.001920</td>\n",
       "    </tr>\n",
       "    <tr>\n",
       "      <th>dimension &gt; value &gt; color &gt; age &gt; phys.prop &gt; hum.prop &gt; exp.state</th>\n",
       "      <td>0.202094</td>\n",
       "      <td>0.001978</td>\n",
       "    </tr>\n",
       "    <tr>\n",
       "      <th>dimension &gt; color &gt; value &gt; phys.prop &gt; age &gt; hum.prop &gt; exp.state</th>\n",
       "      <td>0.201196</td>\n",
       "      <td>0.002073</td>\n",
       "    </tr>\n",
       "  </tbody>\n",
       "</table>\n",
       "</div>"
      ],
      "text/plain": [
       "                                                           r         p\n",
       "scale                                                                 \n",
       "dimension > color > value > age > phys.prop > h...  0.205040  0.001692\n",
       "dimension > color > age > value > phys.prop > h...  0.203334  0.001852\n",
       "dimension > color > value > age > hum.prop > ph...  0.202659  0.001920\n",
       "dimension > value > color > age > phys.prop > h...  0.202094  0.001978\n",
       "dimension > color > value > phys.prop > age > h...  0.201196  0.002073"
      ]
     },
     "execution_count": 15,
     "metadata": {},
     "output_type": "execute_result"
    }
   ],
   "source": [
    "pws = pd.DataFrame([(' > '.join(reversed(p)), {c: i for i, c in enumerate(p)})\n",
    "    for p in itertools.permutations(pw['Semantic class'].unique())],\n",
    "    columns=['scale', 'replace']).set_index('scale')\n",
    "\n",
    "pwc = pws['replace'].apply(lambda r: corr(pw, 'Semantic class', 'value', 'spearmanr', r))\n",
    "pws = pws.join(pwc).sort_values('r', ascending=False)\n",
    "pws[['r', 'p']].head()"
   ]
  },
  {
   "cell_type": "code",
   "execution_count": 16,
   "metadata": {},
   "outputs": [
    {
     "data": {
      "text/html": [
       "<div>\n",
       "<style scoped>\n",
       "    .dataframe tbody tr th:only-of-type {\n",
       "        vertical-align: middle;\n",
       "    }\n",
       "\n",
       "    .dataframe tbody tr th {\n",
       "        vertical-align: top;\n",
       "    }\n",
       "\n",
       "    .dataframe thead th {\n",
       "        text-align: right;\n",
       "    }\n",
       "</style>\n",
       "<table border=\"1\" class=\"dataframe\">\n",
       "  <thead>\n",
       "    <tr style=\"text-align: right;\">\n",
       "      <th></th>\n",
       "      <th>r</th>\n",
       "      <th>p</th>\n",
       "    </tr>\n",
       "  </thead>\n",
       "  <tbody>\n",
       "    <tr>\n",
       "      <th>pearsonr</th>\n",
       "      <td>0.222158</td>\n",
       "      <td>0.000654</td>\n",
       "    </tr>\n",
       "    <tr>\n",
       "      <th>spearmanr</th>\n",
       "      <td>0.205040</td>\n",
       "      <td>0.001692</td>\n",
       "    </tr>\n",
       "    <tr>\n",
       "      <th>kendalltau</th>\n",
       "      <td>0.172183</td>\n",
       "      <td>0.001815</td>\n",
       "    </tr>\n",
       "  </tbody>\n",
       "</table>\n",
       "</div>"
      ],
      "text/plain": [
       "                   r         p\n",
       "pearsonr    0.222158  0.000654\n",
       "spearmanr   0.205040  0.001692\n",
       "kendalltau  0.172183  0.001815"
      ]
     },
     "execution_count": 16,
     "metadata": {},
     "output_type": "execute_result"
    }
   ],
   "source": [
    "scale = pws.at['dimension > color > value > age > phys.prop > hum.prop > exp.state', 'replace']\n",
    "pd.DataFrame([corr(pw, 'Semantic class', 'value', c, scale) for c in CORR])"
   ]
  },
  {
   "cell_type": "code",
   "execution_count": 17,
   "metadata": {},
   "outputs": [
    {
     "data": {
      "text/html": [
       "<div>\n",
       "<style scoped>\n",
       "    .dataframe tbody tr th:only-of-type {\n",
       "        vertical-align: middle;\n",
       "    }\n",
       "\n",
       "    .dataframe tbody tr th {\n",
       "        vertical-align: top;\n",
       "    }\n",
       "\n",
       "    .dataframe thead th {\n",
       "        text-align: right;\n",
       "    }\n",
       "</style>\n",
       "<table border=\"1\" class=\"dataframe\">\n",
       "  <thead>\n",
       "    <tr style=\"text-align: right;\">\n",
       "      <th></th>\n",
       "      <th>r</th>\n",
       "      <th>p</th>\n",
       "    </tr>\n",
       "  </thead>\n",
       "  <tbody>\n",
       "    <tr>\n",
       "      <th>pearsonr</th>\n",
       "      <td>0.248509</td>\n",
       "      <td>0.000131</td>\n",
       "    </tr>\n",
       "    <tr>\n",
       "      <th>spearmanr</th>\n",
       "      <td>0.209724</td>\n",
       "      <td>0.001314</td>\n",
       "    </tr>\n",
       "    <tr>\n",
       "      <th>kendalltau</th>\n",
       "      <td>0.183687</td>\n",
       "      <td>0.001444</td>\n",
       "    </tr>\n",
       "  </tbody>\n",
       "</table>\n",
       "</div>"
      ],
      "text/plain": [
       "                   r         p\n",
       "pearsonr    0.248509  0.000131\n",
       "spearmanr   0.209724  0.001314\n",
       "kendalltau  0.183687  0.001444"
      ]
     },
     "execution_count": 17,
     "metadata": {},
     "output_type": "execute_result"
    }
   ],
   "source": [
    "scale = {'dimension': 4,\n",
    "    'color': 3, 'value': 3, 'age': 3,\n",
    "    'phys.prop': 2, 'hum.prop': 1, 'exp.state': 0}\n",
    "pd.DataFrame([corr(pw, 'Semantic class', 'value', c, scale) for c in CORR])"
   ]
  }
 ],
 "metadata": {
  "kernelspec": {
   "display_name": "Python 3",
   "language": "python",
   "name": "python3"
  },
  "language_info": {
   "codemirror_mode": {
    "name": "ipython",
    "version": 3
   },
   "file_extension": ".py",
   "mimetype": "text/x-python",
   "name": "python",
   "nbconvert_exporter": "python",
   "pygments_lexer": "ipython3",
   "version": "3.7.3"
  }
 },
 "nbformat": 4,
 "nbformat_minor": 1
}
