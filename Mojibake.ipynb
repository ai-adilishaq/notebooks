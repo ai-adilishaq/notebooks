{
 "cells": [
  {
   "cell_type": "code",
   "execution_count": 1,
   "metadata": {},
   "outputs": [
    {
     "name": "stdout",
     "output_type": "stream",
     "text": [
      "<class 'pandas.core.frame.DataFrame'>\n",
      "RangeIndex: 24362 entries, 0 to 24361\n",
      "Data columns (total 16 columns):\n",
      "child_dialect_count     24362 non-null int64\n",
      "child_family_count      24362 non-null int64\n",
      "child_language_count    24362 non-null int64\n",
      "description             418 non-null object\n",
      "family_pk               22485 non-null float64\n",
      "father_pk               22485 non-null float64\n",
      "hid                     8302 non-null object\n",
      "id                      24362 non-null object\n",
      "jsondata                24362 non-null object\n",
      "latitude                7627 non-null float64\n",
      "level                   24362 non-null object\n",
      "longitude               7627 non-null float64\n",
      "markup_description      0 non-null float64\n",
      "name                    24362 non-null object\n",
      "pk                      24362 non-null int64\n",
      "status                  13763 non-null object\n",
      "dtypes: float64(5), int64(4), object(7)\n",
      "memory usage: 3.0+MB\n"
     ]
    }
   ],
   "source": [
    "import os\n",
    "import sys\n",
    "import json\n",
    "import zipfile\n",
    "import xml.etree.cElementTree as etree\n",
    "if sys.version_info.major == 2:\n",
    "    from urllib import urlretrieve\n",
    "else:\n",
    "    from urllib.request import urlretrieve\n",
    "\n",
    "import pandas as pd\n",
    "import ftfy\n",
    "\n",
    "URL = 'http://glottolog.org/static/download/2.6/glottolog-languoid.csv.zip'\n",
    "ARCHIVE = URL.rpartition('/')[2]\n",
    "EXTRACT = 'languoid.csv'\n",
    "\n",
    "if not os.path.exists(ARCHIVE):\n",
    "    urlretrieve(URL, ARCHIVE)\n",
    "\n",
    "with zipfile.ZipFile(ARCHIVE) as archive:\n",
    "    lg = pd.read_csv(archive.open(EXTRACT), encoding='utf-8')\n",
    "\n",
    "lg.info()"
   ]
  },
  {
   "cell_type": "code",
   "execution_count": 2,
   "metadata": {},
   "outputs": [
    {
     "data": {
      "text/plain": [
       "description       0\n",
       "hid               0\n",
       "id                0\n",
       "jsondata       7681\n",
       "level             0\n",
       "name              0\n",
       "status            0\n",
       "dtype: int64"
      ]
     },
     "execution_count": 2,
     "metadata": {},
     "output_type": "execute_result"
    }
   ],
   "source": [
    "lg.select_dtypes(include=[object]).apply(lambda x: x.fillna('').str.count(r'\\\\u').sum())"
   ]
  },
  {
   "cell_type": "code",
   "execution_count": 3,
   "metadata": {},
   "outputs": [
    {
     "data": {
      "text/plain": [
       "endangeredlanguages       0\n",
       "endangerment              0\n",
       "ethnologue                0\n",
       "hname                     0\n",
       "iso_retirement            0\n",
       "languagelandscape         0\n",
       "med                       0\n",
       "sources                   0\n",
       "unesco                 1239\n",
       "wikipedia                 0\n",
       "dtype: int64"
      ]
     },
     "execution_count": 3,
     "metadata": {},
     "output_type": "execute_result"
    }
   ],
   "source": [
    "jd = pd.DataFrame.from_records(lg['jsondata'].map(json.loads))\n",
    "jd.applymap(json.dumps).apply(lambda x: x.fillna('').str.count(r'\\\\u00c3').sum())"
   ]
  },
  {
   "cell_type": "code",
   "execution_count": 4,
   "metadata": {},
   "outputs": [
    {
     "data": {
      "text/plain": [
       "Countries                   4\n",
       "Country codes alpha 3       0\n",
       "Degree of endangerment      0\n",
       "ID                          0\n",
       "ISO639-3 codes              0\n",
       "Name in English           181\n",
       "Name in French            397\n",
       "Name in Spanish           657\n",
       "url                         0\n",
       "dtype: int64"
      ]
     },
     "execution_count": 4,
     "metadata": {},
     "output_type": "execute_result"
    }
   ],
   "source": [
    "un = pd.DataFrame.from_records(jd['unesco'].dropna().tolist())\n",
    "un.apply(lambda x: x.str.count(u'\\u00c3').sum())"
   ]
  },
  {
   "cell_type": "code",
   "execution_count": 5,
   "metadata": {},
   "outputs": [],
   "source": [
    "un = un[['ID', 'Name in English', 'Name in French', 'Name in Spanish', 'Countries']]\n",
    "\n",
    "def fix_encoding(s, encoding='cp1252'):\n",
    "    try:\n",
    "        return s.encode(encoding).decode('utf-8')\n",
    "    except UnicodeEncodeError:\n",
    "        return\n",
    "\n",
    "o, fix, ffix = (os.path.expanduser('~/Desktop/%s.csv' %s) for s in ['spam', 'spam1', 'spam2'])\n",
    "    \n",
    "un.to_csv(o, encoding='utf-8', index=False)\n",
    "un.applymap(fix_encoding).to_csv(fix, encoding='utf-8', index=False)\n",
    "un.applymap(ftfy.fix_encoding).to_csv(ffix, encoding='utf-8', index=False)"
   ]
  },
  {
   "cell_type": "code",
   "execution_count": 6,
   "metadata": {},
   "outputs": [
    {
     "name": "stdout",
     "output_type": "stream",
     "text": [
      "<class 'pandas.core.frame.DataFrame'>\n",
      "Index: 2085 entries, 10 to 999\n",
      "Data columns (total 4 columns):\n",
      "Name in English    2085 non-null object\n",
      "Name in French     2085 non-null object\n",
      "Name in Spanish    2085 non-null object\n",
      "Countries          2085 non-null object\n",
      "dtypes: object(4)\n",
      "memory usage: 81.4+KB\n"
     ]
    }
   ],
   "source": [
    "def try_fix_encoding(s, encoding='cp1252'):\n",
    "    try:\n",
    "        return s.encode(encoding).decode('utf-8')\n",
    "    except UnicodeEncodeError:\n",
    "        return s\n",
    "\n",
    "old = un.applymap(try_fix_encoding).set_index('ID').sort_index().drop_duplicates()\n",
    "old.info()"
   ]
  },
  {
   "cell_type": "code",
   "execution_count": 7,
   "metadata": {},
   "outputs": [
    {
     "name": "stdout",
     "output_type": "stream",
     "text": [
      "<class 'pandas.core.frame.DataFrame'>\n",
      "Index: 2724 entries, 10 to 999\n",
      "Data columns (total 4 columns):\n",
      "Name in English    2724 non-null object\n",
      "Name in French     2702 non-null object\n",
      "Name in Spanish    2704 non-null object\n",
      "Countries          2723 non-null object\n",
      "dtypes: object(4)\n",
      "memory usage: 106.4+KB\n"
     ]
    }
   ],
   "source": [
    "URL_XML = ('http://www.unesco.org/languages-atlas/resources/data.php'\n",
    "    '?link=unesco_atlas_languages_limited_dataset.xml')\n",
    "XML = URL_XML.rpartition('=')[2]\n",
    "\n",
    "if not os.path.exists(XML):\n",
    "    urlretrieve(URL_XML, XML)\n",
    "\n",
    "def iterrows(filename=XML):\n",
    "    for event, e in etree.iterparse(filename):\n",
    "        if e.tag == 'RECORD':\n",
    "            yield {t.tag: t.text for t in e}\n",
    "            e.clear()\n",
    "\n",
    "new = pd.DataFrame.from_records(iterrows()).rename(columns=lambda x: x.replace('_', ' '))\\\n",
    "    .set_index('ID').sort_index()\n",
    "new = new[['Name in English', 'Name in French', 'Name in Spanish', 'Countries']]\n",
    "new.info()   "
   ]
  },
  {
   "cell_type": "code",
   "execution_count": 8,
   "metadata": {},
   "outputs": [
    {
     "data": {
      "text/html": [
       "<div>\n",
       "<style scoped>\n",
       "    .dataframe tbody tr th:only-of-type {\n",
       "        vertical-align: middle;\n",
       "    }\n",
       "\n",
       "    .dataframe tbody tr th {\n",
       "        vertical-align: top;\n",
       "    }\n",
       "\n",
       "    .dataframe thead tr th {\n",
       "        text-align: left;\n",
       "    }\n",
       "\n",
       "    .dataframe thead tr:last-of-type th {\n",
       "        text-align: right;\n",
       "    }\n",
       "</style>\n",
       "<table border=\"1\" class=\"dataframe\">\n",
       "  <thead>\n",
       "    <tr>\n",
       "      <th></th>\n",
       "      <th colspan=\"2\" halign=\"left\">Name in English</th>\n",
       "      <th colspan=\"2\" halign=\"left\">Name in French</th>\n",
       "      <th colspan=\"2\" halign=\"left\">Name in Spanish</th>\n",
       "      <th colspan=\"2\" halign=\"left\">Countries</th>\n",
       "    </tr>\n",
       "    <tr>\n",
       "      <th>xml</th>\n",
       "      <th>False</th>\n",
       "      <th>True</th>\n",
       "      <th>False</th>\n",
       "      <th>True</th>\n",
       "      <th>False</th>\n",
       "      <th>True</th>\n",
       "      <th>False</th>\n",
       "      <th>True</th>\n",
       "    </tr>\n",
       "    <tr>\n",
       "      <th>ID</th>\n",
       "      <th></th>\n",
       "      <th></th>\n",
       "      <th></th>\n",
       "      <th></th>\n",
       "      <th></th>\n",
       "      <th></th>\n",
       "      <th></th>\n",
       "      <th></th>\n",
       "    </tr>\n",
       "  </thead>\n",
       "  <tbody>\n",
       "    <tr>\n",
       "      <th>1126</th>\n",
       "      <td>KÄgate</td>\n",
       "      <td>Kāgate</td>\n",
       "      <td>kÄgate</td>\n",
       "      <td>kāgate</td>\n",
       "      <td>kagate</td>\n",
       "      <td>kagate</td>\n",
       "      <td>Nepal</td>\n",
       "      <td>Nepal</td>\n",
       "    </tr>\n",
       "    <tr>\n",
       "      <th>1166</th>\n",
       "      <td>KumÄle</td>\n",
       "      <td>Kumāle</td>\n",
       "      <td>kumÄle</td>\n",
       "      <td>kumāle</td>\n",
       "      <td>kumhali</td>\n",
       "      <td>kumhali</td>\n",
       "      <td>Nepal</td>\n",
       "      <td>Nepal</td>\n",
       "    </tr>\n",
       "    <tr>\n",
       "      <th>130</th>\n",
       "      <td>ÇXegwi</td>\n",
       "      <td>ǁXegwi</td>\n",
       "      <td>Çxegwi</td>\n",
       "      <td>ǁxegwi</td>\n",
       "      <td>Çxegwi</td>\n",
       "      <td>ǁxegwi</td>\n",
       "      <td>South Africa</td>\n",
       "      <td>South Africa</td>\n",
       "    </tr>\n",
       "    <tr>\n",
       "      <th>1377</th>\n",
       "      <td>ÇGana</td>\n",
       "      <td>ǁGana</td>\n",
       "      <td>Çgana</td>\n",
       "      <td>ǁgana</td>\n",
       "      <td>ganakue</td>\n",
       "      <td>ganakue</td>\n",
       "      <td>Botswana</td>\n",
       "      <td>Botswana</td>\n",
       "    </tr>\n",
       "    <tr>\n",
       "      <th>1396</th>\n",
       "      <td>ÇAni</td>\n",
       "      <td>ǁAni</td>\n",
       "      <td>Çani</td>\n",
       "      <td>ǁani</td>\n",
       "      <td>handá</td>\n",
       "      <td>handá</td>\n",
       "      <td>Botswana</td>\n",
       "      <td>Botswana</td>\n",
       "    </tr>\n",
       "    <tr>\n",
       "      <th>1443</th>\n",
       "      <td>ÇKu Ç'e</td>\n",
       "      <td>ǁKu ǁ'e</td>\n",
       "      <td>Çku Ç'e</td>\n",
       "      <td>ǁku ǁ'e</td>\n",
       "      <td>ÇkuÇe</td>\n",
       "      <td>ǁkuǁe</td>\n",
       "      <td>South Africa</td>\n",
       "      <td>South Africa</td>\n",
       "    </tr>\n",
       "    <tr>\n",
       "      <th>1447</th>\n",
       "      <td>SatÄr</td>\n",
       "      <td>Satār</td>\n",
       "      <td>satÄr</td>\n",
       "      <td>satār</td>\n",
       "      <td>satar</td>\n",
       "      <td>satar</td>\n",
       "      <td>Nepal</td>\n",
       "      <td>Nepal</td>\n",
       "    </tr>\n",
       "    <tr>\n",
       "      <th>405</th>\n",
       "      <td>Romani</td>\n",
       "      <td>Romani</td>\n",
       "      <td>romani</td>\n",
       "      <td>romani</td>\n",
       "      <td>romaní</td>\n",
       "      <td>romaní</td>\n",
       "      <td>Albania, Germany, Austria, Belarus, Bosnia and...</td>\n",
       "      <td>Albania, Germany, Austria, Belarus, Bosnia and...</td>\n",
       "    </tr>\n",
       "    <tr>\n",
       "      <th>430</th>\n",
       "      <td>BarÄm</td>\n",
       "      <td>Barām</td>\n",
       "      <td>barÄm</td>\n",
       "      <td>barām</td>\n",
       "      <td>baraamu / baramú</td>\n",
       "      <td>baraamu / baramú</td>\n",
       "      <td>Nepal</td>\n",
       "      <td>Nepal</td>\n",
       "    </tr>\n",
       "    <tr>\n",
       "      <th>445</th>\n",
       "      <td>SÄm</td>\n",
       "      <td>Sām</td>\n",
       "      <td>sÄm</td>\n",
       "      <td>sām</td>\n",
       "      <td>saam / saamo</td>\n",
       "      <td>saam / saamo</td>\n",
       "      <td>Nepal</td>\n",
       "      <td>Nepal</td>\n",
       "    </tr>\n",
       "  </tbody>\n",
       "</table>\n",
       "</div>"
      ],
      "text/plain": [
       "     Name in English          Name in French            Name in Spanish  \\\n",
       "xml            False    True           False    True              False   \n",
       "ID                                                                        \n",
       "1126         KÄgate   Kāgate        kÄgate   kāgate            kagate   \n",
       "1166         KumÄle   Kumāle        kumÄle   kumāle           kumhali   \n",
       "130          ÇXegwi   ǁXegwi        Çxegwi   ǁxegwi           Çxegwi   \n",
       "1377          ÇGana    ǁGana         Çgana    ǁgana           ganakue   \n",
       "1396           ÇAni     ǁAni          Çani     ǁani             handá   \n",
       "1443       ÇKu Ç'e  ǁKu ǁ'e      Çku Ç'e  ǁku ǁ'e           ÇkuÇe   \n",
       "1447          SatÄr    Satār         satÄr    satār             satar   \n",
       "405           Romani   Romani         romani   romani            romaní   \n",
       "430           BarÄm    Barām         barÄm    barām  baraamu / baramú   \n",
       "445             SÄm      Sām           sÄm      sām      saam / saamo   \n",
       "\n",
       "                                                                Countries  \\\n",
       "xml              True                                               False   \n",
       "ID                                                                          \n",
       "1126            kagate                                              Nepal   \n",
       "1166           kumhali                                              Nepal   \n",
       "130             ǁxegwi                                       South Africa   \n",
       "1377           ganakue                                           Botswana   \n",
       "1396             handá                                           Botswana   \n",
       "1443             ǁkuǁe                                       South Africa   \n",
       "1447             satar                                              Nepal   \n",
       "405             romaní  Albania, Germany, Austria, Belarus, Bosnia and...   \n",
       "430   baraamu / baramú                                              Nepal   \n",
       "445       saam / saamo                                              Nepal   \n",
       "\n",
       "                                                         \n",
       "xml                                               True   \n",
       "ID                                                       \n",
       "1126                                              Nepal  \n",
       "1166                                              Nepal  \n",
       "130                                        South Africa  \n",
       "1377                                           Botswana  \n",
       "1396                                           Botswana  \n",
       "1443                                       South Africa  \n",
       "1447                                              Nepal  \n",
       "405   Albania, Germany, Austria, Belarus, Bosnia and...  \n",
       "430                                               Nepal  \n",
       "445                                               Nepal  "
      ]
     },
     "execution_count": 8,
     "metadata": {},
     "output_type": "execute_result"
    }
   ],
   "source": [
    "df = pd.concat([old.assign(xml=False).set_index('xml', append=True),\n",
    "    new.assign(xml=True).set_index('xml', append=True)])\n",
    "\n",
    "diff = df.groupby(level='ID').filter(lambda x: (x.nunique() > 1).any()).unstack('xml')\n",
    "diff"
   ]
  },
  {
   "cell_type": "code",
   "execution_count": 9,
   "metadata": {},
   "outputs": [
    {
     "data": {
      "text/plain": [
       "['Albania, Germany, Austria, Belarus, Bosnia and Herzegovina, Bulgaria, Croatia, Estonia, Finland, France, Greece, Hungary, Italy, Latvia, Lithuania, The former Yugoslav Republic of Macedonia, Netherlands, Poland, Romania, United Kingdom of Great Britain an',\n",
       " 'Albania, Germany, Austria, Belarus, Bosnia and Herzegovina, Bulgaria, Croatia, Estonia, Finland, France, Greece, Hungary, Italy, Latvia, Lithuania, The former Yugoslav Republic of Macedonia, Netherlands, Poland, Romania, United Kingdom of Great Britain and Northern Ireland, Russian Federation, Slovakia, Slovenia, Switzerland, Czech Republic, Turkey, Ukraine, Serbia, Montenegro']"
      ]
     },
     "execution_count": 9,
     "metadata": {},
     "output_type": "execute_result"
    }
   ],
   "source": [
    "diff.loc['405', 'Countries'].tolist()"
   ]
  }
 ],
 "metadata": {
  "kernelspec": {
   "display_name": "Python 3",
   "language": "python",
   "name": "python3"
  },
  "language_info": {
   "codemirror_mode": {
    "name": "ipython",
    "version": 3
   },
   "file_extension": ".py",
   "mimetype": "text/x-python",
   "name": "python",
   "nbconvert_exporter": "python",
   "pygments_lexer": "ipython3",
   "version": "3.6.5"
  }
 },
 "nbformat": 4,
 "nbformat_minor": 1
}
